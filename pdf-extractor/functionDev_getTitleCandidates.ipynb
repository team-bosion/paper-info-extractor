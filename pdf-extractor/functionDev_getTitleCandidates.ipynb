{
 "cells": [
  {
   "cell_type": "code",
   "execution_count": 1,
   "metadata": {
    "collapsed": false
   },
   "outputs": [],
   "source": [
    "import pdfExtractor\n",
    "from pdfExtractor import PaperPageInfo, TextBox, TextLine, Text"
   ]
  },
  {
   "cell_type": "code",
   "execution_count": 2,
   "metadata": {
    "collapsed": false
   },
   "outputs": [
    {
     "name": "stdout",
     "output_type": "stream",
     "text": [
      "./test-samples/Articles/1302.4102v1 copy.pdf\n"
     ]
    }
   ],
   "source": [
    "path = pdfExtractor.testpath(15)\n",
    "print path"
   ]
  },
  {
   "cell_type": "code",
   "execution_count": 3,
   "metadata": {
    "collapsed": false
   },
   "outputs": [],
   "source": [
    "first_page_xml = pdfExtractor.extractPagesXml(path)[0]\n",
    "page_obj = pdfExtractor.getXmlObject(first_page_xml)"
   ]
  },
  {
   "cell_type": "code",
   "execution_count": 4,
   "metadata": {
    "collapsed": false
   },
   "outputs": [
    {
     "name": "stdout",
     "output_type": "stream",
     "text": [
      "page size:\n",
      "[ 306.  396.]\n"
     ]
    }
   ],
   "source": [
    "page = PaperPageInfo(pdfExtractor.getPages(page_obj)[0])\n",
    "print('page size:')\n",
    "print(page.getBoxCenter())"
   ]
  },
  {
   "cell_type": "code",
   "execution_count": 5,
   "metadata": {
    "collapsed": false
   },
   "outputs": [],
   "source": [
    "# print len(page.getTextBoxes())"
   ]
  },
  {
   "cell_type": "code",
   "execution_count": 6,
   "metadata": {
    "collapsed": false
   },
   "outputs": [],
   "source": [
    "textboxes = page.getTextBoxes()\n",
    "# for x in range(len(textboxes)):\n",
    "#     print('textbox[' + str(x) + '].boxcenter: ')\n",
    "#     print(textboxes[x].getBoxCenter())"
   ]
  },
  {
   "cell_type": "code",
   "execution_count": 10,
   "metadata": {
    "collapsed": false
   },
   "outputs": [],
   "source": [
    "import math\n",
    "DEBUG = False\n",
    "titlecandidates = []\n",
    "tol = 50\n",
    "pagecenterX = page.getBoxCenter()[0]\n",
    "for textbox in textboxes:\n",
    "    if len(textbox.getTextLines()) > 3:\n",
    "        continue\n",
    "    if DEBUG: print('id=' + textbox.getId())\n",
    "    needsort = False\n",
    "    if abs(textbox.getBoxCenter()[0] - pagecenterX) < tol or len(titlecandidates) == 0:\n",
    "        titlecandidates.append(textbox)\n",
    "        needsort = True\n",
    "    else:\n",
    "        if abs(textbox.getBoxCenter()[0] - pagecenterX) < abs(titlecandidates[0].getBoxCenter()[0] - pagecenterX):\n",
    "            titlecandidates[0] = textbox\n",
    "            needsort = True\n",
    "        \n",
    "    if len(titlecandidates) > 1 and needsort:\n",
    "        firstcandidate = titlecandidates[0]\n",
    "        for x in range(len(titlecandidates)):\n",
    "            if x == 0:\n",
    "                continue\n",
    "            if abs(titlecandidates[x].getBoxCenter()[0] - pagecenterX) > abs(firstcandidate.getBoxCenter()[0] - pagecenterX):\n",
    "                titlecandidates[0] = titlecandidates[x]\n",
    "                titlecandidates[x] = firstcandidate\n",
    "                firstcandidate = titlecandidates[0]\n",
    "        if DEBUG:\n",
    "            for x in range(len(titlecandidates)):\n",
    "                print('title[' + str(x) + ', id=' + titlecandidates[x].getId() + '].boxcenter: ')\n",
    "                print(titlecandidates[x].getBoxCenter())\n",
    "            print('------------------')"
   ]
  },
  {
   "cell_type": "code",
   "execution_count": 11,
   "metadata": {
    "collapsed": false
   },
   "outputs": [
    {
     "name": "stdout",
     "output_type": "stream",
     "text": [
      "title[0, id=1].boxcenter: \n",
      "[ 307.7985  704.885 ]\n",
      "title[1, id=0].boxcenter: \n",
      "[ 308.047  735.062]\n",
      "title[2, id=2].boxcenter: \n",
      "[ 308.048  685.379]\n",
      "title[3, id=4].boxcenter: \n",
      "[ 308.048  664.129]\n",
      "title[4, id=3].boxcenter: \n",
      "[ 308.049  674.563]\n"
     ]
    }
   ],
   "source": [
    "for x in range(len(titlecandidates)-1):\n",
    "    for y in range(len(titlecandidates)-x-1):\n",
    "        xcand = titlecandidates[x]\n",
    "        ycand = titlecandidates[y+x+1]\n",
    "        if abs(xcand.getBoxCenter()[0] - pagecenterX) > abs(ycand.getBoxCenter()[0] - pagecenterX):\n",
    "            titlecandidates[x] = ycand\n",
    "            titlecandidates[y+x+1] = xcand\n",
    "            if not DEBUG: continue\n",
    "            print('swap(' + str(x) + ' and ' + str(y+x+1) + ')')\n",
    "            for idx in range(len(titlecandidates)):\n",
    "                print('title[' + str(idx) + ', id=' + titlecandidates[idx].getId() + '].boxcenter: ')\n",
    "                print(titlecandidates[idx].getBoxCenter())\n",
    "            print('---------------------')\n",
    "        \n",
    "for x in range(len(titlecandidates)):\n",
    "    print('title[' + str(x) + ', id=' + titlecandidates[x].getId() + '].boxcenter: ')\n",
    "    print(titlecandidates[x].getBoxCenter())"
   ]
  },
  {
   "cell_type": "code",
   "execution_count": 12,
   "metadata": {
    "collapsed": false
   },
   "outputs": [
    {
     "name": "stdout",
     "output_type": "stream",
     "text": [
      "pagecenter:\n",
      "[ 306.  396.]\n",
      "candidate[id=1, boxcenter=(307.7985, 704.885]: \n",
      "2 lines\n",
      "textSize: 12.533\n",
      "font: IXIKVN+SFRM1000\n",
      "M. Brust,1 C. Schaefer,1 R. Doerr,1 L. Pan,2 M. Garcia,2 P. E. Arratia,2 and C. Wagner1, \n",
      "\n",
      "textSize: 7.556\n",
      "font: NSLYGY+SFRM0600\n",
      "1Experimentalphysik, Universitt des Saarlandes, Postfach 151150, 66041 Saarbrcken, Germany\n",
      "\n",
      "----------------------------------\n",
      "candidate[id=0, boxcenter=(308.047, 735.062]: \n",
      "1 lines\n",
      "textSize: 14.836\n",
      "font: UBDIWP+SFBX1200\n",
      "Rheology of human blood plasma: Viscoelastic versus Newtonian behavior\n",
      "\n",
      "----------------------------------\n",
      "candidate[id=2, boxcenter=(308.048, 685.379]: \n",
      "1 lines\n",
      "textSize: 7.556\n",
      "font: NSLYGY+SFRM0600\n",
      "2Department of Mechanical Engineering & Applied Mechanics,\n",
      "\n",
      "----------------------------------\n",
      "candidate[id=4, boxcenter=(308.048, 664.129]: \n",
      "1 lines\n",
      "textSize: 11.289\n",
      "font: WGJANA+SFRM0900\n",
      "(Dated: February 19, 2013)\n",
      "\n",
      "----------------------------------\n",
      "candidate[id=3, boxcenter=(308.049, 674.563]: \n",
      "1 lines\n",
      "textSize: 11.235\n",
      "font: RNYSOG+SFTI0900\n",
      "University of Pennsylvania, Philadelphia, PA 19104, United States\n",
      "\n",
      "----------------------------------\n"
     ]
    }
   ],
   "source": [
    "print('pagecenter:')\n",
    "print(page.getBoxCenter())\n",
    "for candidate in titlecandidates:\n",
    "    c = candidate.getBoxCenter()\n",
    "    print('candidate[id=' + candidate.getId() + ', boxcenter=(' + str(c[0]) + ', ' + str(c[1]) + ']: ')\n",
    "    print(str(len(candidate.getTextLines())) + ' lines')\n",
    "    for textline in candidate.getTextLines():\n",
    "        print('textSize: ' + textline.getTexts()[0].getTextSize())\n",
    "        print('font: ' + textline.getTexts()[0].getTextFont())\n",
    "        print(textline.getLineText())\n",
    "    print('----------------------------------')"
   ]
  },
  {
   "cell_type": "code",
   "execution_count": null,
   "metadata": {
    "collapsed": true
   },
   "outputs": [],
   "source": []
  }
 ],
 "metadata": {
  "kernelspec": {
   "display_name": "Python 2",
   "language": "python",
   "name": "python2"
  },
  "language_info": {
   "codemirror_mode": {
    "name": "ipython",
    "version": 2
   },
   "file_extension": ".py",
   "mimetype": "text/x-python",
   "name": "python",
   "nbconvert_exporter": "python",
   "pygments_lexer": "ipython2",
   "version": "2.7.9"
  }
 },
 "nbformat": 4,
 "nbformat_minor": 0
}
