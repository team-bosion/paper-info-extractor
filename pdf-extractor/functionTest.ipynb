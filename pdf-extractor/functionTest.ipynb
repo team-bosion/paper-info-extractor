{
 "cells": [
  {
   "cell_type": "code",
   "execution_count": 1,
   "metadata": {
    "collapsed": true
   },
   "outputs": [],
   "source": [
    "import pdfExtractor"
   ]
  },
  {
   "cell_type": "code",
   "execution_count": 16,
   "metadata": {
    "collapsed": false
   },
   "outputs": [
    {
     "name": "stdout",
     "output_type": "stream",
     "text": [
      "./test-samples/Articles/1302.4102v1 copy.pdf\n"
     ]
    }
   ],
   "source": [
    "path = pdfExtractor.testpath(11)\n",
    "print path"
   ]
  },
  {
   "cell_type": "code",
   "execution_count": 17,
   "metadata": {
    "collapsed": false
   },
   "outputs": [],
   "source": [
    "title_candidates = pdfExtractor.getTitleStringCandidates(path)"
   ]
  },
  {
   "cell_type": "code",
   "execution_count": 19,
   "metadata": {
    "collapsed": false
   },
   "outputs": [
    {
     "name": "stdout",
     "output_type": "stream",
     "text": [
      "M. Brust,1 C. Schaefer,1 R. Doerr,1 L. Pan,2 M. Garcia,2 P. E. Arratia,2 and C. Wagner1, \n",
      "1Experimentalphysik, Universitt des Saarlandes, Postfach 151150, 66041 Saarbrcken, Germany\n",
      "\n",
      "--------------------------\n",
      "Rheology of human blood plasma: Viscoelastic versus Newtonian behavior\n",
      "\n",
      "--------------------------\n",
      "2Department of Mechanical Engineering & Applied Mechanics,\n",
      "\n",
      "--------------------------\n",
      "(Dated: February 19, 2013)\n",
      "\n",
      "--------------------------\n",
      "University of Pennsylvania, Philadelphia, PA 19104, United States\n",
      "\n",
      "--------------------------\n"
     ]
    }
   ],
   "source": [
    "for title in title_candidates:\n",
    "    print title\n",
    "    print '--------------------------'"
   ]
  },
  {
   "cell_type": "code",
   "execution_count": null,
   "metadata": {
    "collapsed": true
   },
   "outputs": [],
   "source": []
  }
 ],
 "metadata": {
  "kernelspec": {
   "display_name": "Python 2",
   "language": "python",
   "name": "python2"
  },
  "language_info": {
   "codemirror_mode": {
    "name": "ipython",
    "version": 2
   },
   "file_extension": ".py",
   "mimetype": "text/x-python",
   "name": "python",
   "nbconvert_exporter": "python",
   "pygments_lexer": "ipython2",
   "version": "2.7.9"
  }
 },
 "nbformat": 4,
 "nbformat_minor": 0
}
