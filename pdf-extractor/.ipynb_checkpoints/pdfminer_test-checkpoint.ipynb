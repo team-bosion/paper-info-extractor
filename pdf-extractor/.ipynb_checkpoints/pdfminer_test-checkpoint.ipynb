{
 "cells": [
  {
   "cell_type": "code",
   "execution_count": 1,
   "metadata": {
    "collapsed": false
   },
   "outputs": [],
   "source": [
    "from pdfminer.pdfinterp import PDFResourceManager, PDFPageInterpreter\n",
    "from pdfminer.pdfpage import PDFPage\n",
    "from pdfminer.converter import XMLConverter, HTMLConverter, TextConverter\n",
    "from pdfminer.layout import LAParams\n",
    "from cStringIO import StringIO\n",
    "\n",
    "from xml.dom import minidom\n",
    "\n",
    "import numpy as np\n",
    "import math\n",
    "\n",
    "import string\n",
    "import re\n",
    "\n",
    "import functools"
   ]
  },
  {
   "cell_type": "code",
   "execution_count": 2,
   "metadata": {
    "collapsed": true
   },
   "outputs": [],
   "source": [
    "pdf_path = '/Users/HWLee/Desktop/papers/theory of relativity/0108042v1-60df3449.pdf'\n",
    "pdf_path = '/Users/HWLee/Desktop/papers/exoplanet/0209382v1-1a0ebf0b.pdf'"
   ]
  },
  {
   "cell_type": "markdown",
   "metadata": {},
   "source": [
    "## Defining classes"
   ]
  },
  {
   "cell_type": "code",
   "execution_count": 3,
   "metadata": {
    "collapsed": true
   },
   "outputs": [],
   "source": [
    "class Box(object):\n",
    "\n",
    "    def __init__(self, xml_obj):\n",
    "        self.xmlObj = xml_obj\n",
    "        self.width = -1\n",
    "        self.height = -1\n",
    "        self.objId = -1\n",
    "        self.center = np.array([-1, -1])\n",
    "        \n",
    "        boxSize = self.calBoxSize(xml_obj)\n",
    "        boxCenter = self.calBoxCenter(xml_obj)\n",
    "        if boxSize is not None:\n",
    "            objId = -1\n",
    "            if xml_obj.attributes:\n",
    "                if 'id' in xml_obj.attributes.keys(): objId = xml_obj.attributes['id'].value\n",
    "            \n",
    "            self.width = boxSize[0]\n",
    "            self.height = boxSize[1]\n",
    "            self.objId = objId\n",
    "            self.center = boxCenter\n",
    "\n",
    "    def getWidth(self): return self.width\n",
    "\n",
    "    def getHeight(self): return self.height\n",
    "\n",
    "    def getBoxCenter(self): return self.center\n",
    "\n",
    "    def getId(self): return self.objId\n",
    "\n",
    "    def getBoxSize(self): return np.array([self.getWidth(), self.getHeight()])\n",
    "    \n",
    "    def getXMLObject(self): return self.xmlObj\n",
    "\n",
    "    @staticmethod\n",
    "    def calBoxSize(xml_obj):\n",
    "        if 'bbox' in xml_obj.attributes.keys():\n",
    "            pointsValues = xml_obj.attributes['bbox'].value.split(',')\n",
    "            return np.array([ float(pointsValues[2]), float(pointsValues[3]) ]) - np.array([ float(pointsValues[0]), float(pointsValues[1]) ])\n",
    "        return np.array([0, 0])\n",
    "\n",
    "    @staticmethod\n",
    "    def calBoxCenter(xml_obj):\n",
    "        if 'bbox' in xml_obj.attributes.keys():\n",
    "            pointsValues = xml_obj.attributes['bbox'].value.split(',')\n",
    "            return ( np.array([ float(pointsValues[2]), float(pointsValues[3]) ]) + np.array([ float(pointsValues[0]), float(pointsValues[1]) ]) )/2\n",
    "        return np.array([0, 0])"
   ]
  },
  {
   "cell_type": "code",
   "execution_count": 4,
   "metadata": {
    "collapsed": false
   },
   "outputs": [],
   "source": [
    "class Text(Box):\n",
    "\n",
    "    def __init__(self, text_xml_obj):\n",
    "        super(Text, self).__init__(text_xml_obj)\n",
    "        self.textFont = ''\n",
    "        self.textSize = -1\n",
    "        if text_xml_obj.attributes:\n",
    "            if 'font' in text_xml_obj.attributes.keys(): self.textFont = text_xml_obj.attributes['font'].value\n",
    "        if text_xml_obj.attributes:\n",
    "            if 'size' in text_xml_obj.attributes.keys():\n",
    "                try: self.textSize = text_xml_obj.attributes['size'].value\n",
    "                except: self.textSize = -1\n",
    "\n",
    "\n",
    "    def getTextFont(self): return self.textFont\n",
    "\n",
    "    def getTextSize(self): return self.textSize\n",
    "    \n",
    "    def getInnerXml(self):\n",
    "        if self.xmlObj.firstChild is not None:\n",
    "            return str(self.xmlObj.firstChild.nodeValue)\n",
    "        else:\n",
    "            return ''"
   ]
  },
  {
   "cell_type": "code",
   "execution_count": 5,
   "metadata": {
    "collapsed": false
   },
   "outputs": [],
   "source": [
    "class TextLine(Box):\n",
    "\n",
    "    def __init__(self, textLine_xml_obj):\n",
    "        super(TextLine, self).__init__(textLine_xml_obj)\n",
    "        texts = textLine_xml_obj.getElementsByTagName('text')\n",
    "        self.texts = map(Text, texts)\n",
    "\n",
    "    def getTexts(self): return self.texts\n",
    "    \n",
    "    def getAvgFontSize(self):\n",
    "        if len(self.texts) > 0:\n",
    "            fontsizes = map(lambda text: float(text.getTextSize()), self.texts)\n",
    "            fontsizes = filter(lambda x: x > 0, fontsizes)\n",
    "            return float(int( sum(fontsizes) / len(fontsizes) * 1000 )) / 1000\n",
    "        else:\n",
    "            return -1\n",
    "\n",
    "    def getLineText(self):\n",
    "        strings = map(lambda text: text.getInnerXml(), self.texts)\n",
    "        return reduce(lambda x,y: x+y, strings)"
   ]
  },
  {
   "cell_type": "code",
   "execution_count": 6,
   "metadata": {
    "collapsed": true
   },
   "outputs": [],
   "source": [
    "class TextBox(Box):\n",
    "\n",
    "    def __init__(self, textBox_xml_obj):\n",
    "        super(TextBox, self).__init__(textBox_xml_obj)\n",
    "        textLines = textBox_xml_obj.getElementsByTagName('textline')\n",
    "        self.textLines = map(TextLine, textLines)\n",
    "\n",
    "    def getTextLines(self): return self.textLines\n",
    "    \n",
    "    def getAvgFontSize(self):\n",
    "        if len(self.textLines) > 0:\n",
    "            fontsizes = map(lambda textline: float(textline.getAvgFontSize()), self.textLines)\n",
    "            fontsizes = filter(lambda x: x > 0, fontsizes)\n",
    "            return float(int( sum(fontsizes) / len(fontsizes) * 1000 )) / 1000\n",
    "        else:\n",
    "            return -1\n",
    "        \n",
    "    def merge_box(self, box):\n",
    "        map(lambda x: self.textLines.append(x), box.getTextLines())\n",
    "\n",
    "    def toString(self): return reduce( lambda x,y: x+y , map(lambda x: x.getLineText(), self.textLines) );"
   ]
  },
  {
   "cell_type": "code",
   "execution_count": 7,
   "metadata": {
    "collapsed": true
   },
   "outputs": [],
   "source": [
    "class Page(Box):\n",
    "\n",
    "    def __init__(self, page_xml_obj):\n",
    "        super(Page, self).__init__(page_xml_obj)\n",
    "        textBoxes = page_xml_obj.getElementsByTagName('textbox')\n",
    "        textBoxes = textBoxes[:-(len(textBoxes)/2)]\n",
    "        self.textBoxes = map(TextBox, textBoxes)\n",
    "\n",
    "    def getTextBoxes(self): return self.textBoxes"
   ]
  },
  {
   "cell_type": "markdown",
   "metadata": {},
   "source": [
    "## Extracting the first page"
   ]
  },
  {
   "cell_type": "code",
   "execution_count": 8,
   "metadata": {
    "collapsed": false
   },
   "outputs": [],
   "source": [
    "fp = file(pdf_path, 'rb')\n",
    "rsrcmgr = PDFResourceManager()\n",
    "retstr = StringIO()\n",
    "codec = 'utf-8'\n",
    "laparams = LAParams()\n",
    "device = XMLConverter(rsrcmgr, retstr, codec=codec, laparams=laparams)\n",
    "interpreter = PDFPageInterpreter(rsrcmgr, device)\n",
    "pages_iterator = PDFPage.get_pages(fp)"
   ]
  },
  {
   "cell_type": "code",
   "execution_count": 9,
   "metadata": {
    "collapsed": false
   },
   "outputs": [],
   "source": [
    "first_page = None\n",
    "for page in pages_iterator:\n",
    "    read_position = retstr.tell()\n",
    "    interpreter.process_page(page)\n",
    "    retstr.seek(read_position, 0)\n",
    "    first_page = retstr.read()\n",
    "    first_page = filter(string.printable.__contains__, first_page)\n",
    "    break"
   ]
  },
  {
   "cell_type": "markdown",
   "metadata": {},
   "source": [
    "## Parsing xml structure"
   ]
  },
  {
   "cell_type": "code",
   "execution_count": 10,
   "metadata": {
    "collapsed": false
   },
   "outputs": [],
   "source": [
    "first_page_xml = minidom.parseString(first_page).getElementsByTagName('page')[0]\n",
    "first_page_info = Page(first_page_xml)"
   ]
  },
  {
   "cell_type": "markdown",
   "metadata": {},
   "source": [
    "## Define check center/edge-aligned function"
   ]
  },
  {
   "cell_type": "code",
   "execution_count": 11,
   "metadata": {
    "collapsed": true
   },
   "outputs": [],
   "source": [
    "def _is_aligned_center_or_edge(box_obj=None, tol=0, page_centerX=0):\n",
    "    if box_obj:\n",
    "        if abs(box_obj.getBoxCenter()[0] - page_centerX) < tol: return True\n",
    "        if abs(box_obj.getBoxCenter()[0] - box_obj.getBoxSize()[0]/2) < tol: return True\n",
    "        if abs(box_obj.getBoxCenter()[0] + box_obj.getBoxSize()[0]/2 - page_centerX*2) < tol: return True\n",
    "    \n",
    "    return False"
   ]
  },
  {
   "cell_type": "markdown",
   "metadata": {},
   "source": [
    "## Define choosing title candidate function"
   ]
  },
  {
   "cell_type": "code",
   "execution_count": 12,
   "metadata": {
    "collapsed": true
   },
   "outputs": [],
   "source": [
    "def _might_be_title(textbox, page_centerX):\n",
    "    if not textbox: return False\n",
    "    if len(textbox.getTextLines()) > 3: return False\n",
    "    if not _is_aligned_center_or_edge(box_obj=textbox, tol=20, page_centerX=page_centerX): return False\n",
    "    \n",
    "    return True"
   ]
  },
  {
   "cell_type": "code",
   "execution_count": 13,
   "metadata": {
    "collapsed": false
   },
   "outputs": [
    {
     "data": {
      "text/plain": [
       "[((' \\n', 5.0), u'Times-Roman'),\n",
       " ((' \\n \\n', 5.0), u'Times-Roman'),\n",
       " (('What can exoplanets tell us about our Solar System?\\n', 10.759),\n",
       "  u'XUOWSW+CMBX12'),\n",
       " (('Our analysis suggests that Jupiter is more typical than indicated by previous\\nanalyses, including our own (LG). For example, in Fig. 2, our  = 1.6 slope is\\nslightly steeper than the  = 1.5 found in LG and is steeper than the   1.0\\n',\n",
       "   10.832),\n",
       "  u'YDZIUJ+CMR10'),\n",
       " (('1\\n', 10.909), u'YDZIUJ+CMR10')]"
      ]
     },
     "execution_count": 13,
     "metadata": {},
     "output_type": "execute_result"
    }
   ],
   "source": [
    "centerX = first_page_info.getBoxCenter()[0]\n",
    "textboxes = first_page_info.getTextBoxes()\n",
    "might_be_title = map(functools.partial(_might_be_title, page_centerX=centerX), textboxes)\n",
    "title_cands = filter(lambda x: x[0], zip(might_be_title, textboxes))\n",
    "title_cands = map(lambda x: x[1], title_cands)\n",
    "dbg_set = zip(map(lambda x: x.toString(), title_cands), map(lambda x: x.getAvgFontSize(), title_cands))\n",
    "dbg_set = zip(dbg_set, map(lambda x: x.getTextLines()[0].getTexts()[0].getTextFont(), title_cands))\n",
    "dbg_set"
   ]
  },
  {
   "cell_type": "markdown",
   "metadata": {},
   "source": [
    "## Aggregating elements which have the same fontsize and fonttype"
   ]
  },
  {
   "cell_type": "code",
   "execution_count": 14,
   "metadata": {
    "collapsed": false
   },
   "outputs": [],
   "source": [
    "def _have_same_fontsize_n_fonttype(a, b):\n",
    "    afont = a.getTextLines()[0].getTexts()[0].getTextFont()\n",
    "    bfont = b.getTextLines()[0].getTexts()[0].getTextFont()\n",
    "    if afont != bfont: return False\n",
    "    if a.getAvgFontSize() != b.getAvgFontSize(): return False\n",
    "    \n",
    "    return True\n",
    "\n",
    "def _get_sets_to_be_aggregated(title_cands):\n",
    "    compared_results = map(_have_same_fontsize_n_fonttype, title_cands[:-1], title_cands[1:])\n",
    "    indices = np.where(compared_results)[0]\n",
    "    groupstart = np.append([ 0 ], np.where(np.diff(indices) != 1)[0] + 1)\n",
    "    groupend = np.append(groupstart[1:], [ len(indices) ])\n",
    "    aggre_arrays = map(lambda x,y: indices[x:y], groupstart, groupend)\n",
    "    aggre_arrays = map(lambda x: np.append(x, [ x[-1]+1 ]), aggre_arrays)\n",
    "    aggre_arrays = map(lambda x: (x[0], len(x)), aggre_arrays)\n",
    "    \n",
    "    return aggre_arrays\n",
    "\n",
    "def _aggregate(title_cands, aggre_arrays):\n",
    "    titles = title_cands\n",
    "    if len(aggre_arrays) > 1:\n",
    "        added_targets = reduce(lambda x,y: np.append(x[0], y[0]), aggre_arrays)\n",
    "    else:\n",
    "        added_targets = [ aggre_arrays[0][0] ]\n",
    "    \n",
    "    added_items = map(lambda x: np.r_[ x[0]+1:x[0]+x[1] ], aggre_arrays)\n",
    "    remove_indices = reduce(lambda x,y: np.append(x, y), added_items)\n",
    "    \n",
    "    map(lambda target,items:\n",
    "            map(lambda item: titles[target].merge_box(titles[item]), items), \n",
    "        added_targets, \n",
    "        added_items)\n",
    "    \n",
    "    need_be_removed = [False] * len(title_cands)\n",
    "    for x in remove_indices: need_be_removed[x] = True\n",
    "    titles = zip(titles, need_be_removed)\n",
    "    \n",
    "    return map(lambda x: x[0], filter(lambda x: not x[1], titles))"
   ]
  },
  {
   "cell_type": "code",
   "execution_count": 15,
   "metadata": {
    "collapsed": false
   },
   "outputs": [
    {
     "data": {
      "text/plain": [
       "[' \\n \\n \\n',\n",
       " 'What can exoplanets tell us about our Solar System?\\n',\n",
       " 'Our analysis suggests that Jupiter is more typical than indicated by previous\\nanalyses, including our own (LG). For example, in Fig. 2, our  = 1.6 slope is\\nslightly steeper than the  = 1.5 found in LG and is steeper than the   1.0\\n',\n",
       " '1\\n']"
      ]
     },
     "execution_count": 15,
     "metadata": {},
     "output_type": "execute_result"
    }
   ],
   "source": [
    "title_cands = _aggregate( title_cands, _get_sets_to_be_aggregated(title_cands) )\n",
    "map(lambda x: x.toString(), title_cands)"
   ]
  },
  {
   "cell_type": "markdown",
   "metadata": {
    "collapsed": true
   },
   "source": [
    "## Sorted with text size"
   ]
  },
  {
   "cell_type": "code",
   "execution_count": 16,
   "metadata": {
    "collapsed": false
   },
   "outputs": [
    {
     "data": {
      "text/plain": [
       "[('1\\n', 10.909),\n",
       " ('Our analysis suggests that Jupiter is more typical than indicated by previous\\nanalyses, including our own (LG). For example, in Fig. 2, our  = 1.6 slope is\\nslightly steeper than the  = 1.5 found in LG and is steeper than the   1.0\\n',\n",
       "  10.832),\n",
       " ('What can exoplanets tell us about our Solar System?\\n', 10.759),\n",
       " (' \\n \\n \\n', 5.0)]"
      ]
     },
     "execution_count": 16,
     "metadata": {},
     "output_type": "execute_result"
    }
   ],
   "source": [
    "title_cands_sorted = sorted(title_cands, key=lambda x: x.getAvgFontSize(), reverse=True)\n",
    "map(lambda x: (x.toString(), x.getAvgFontSize()), title_cands_sorted)"
   ]
  },
  {
   "cell_type": "code",
   "execution_count": null,
   "metadata": {
    "collapsed": true
   },
   "outputs": [],
   "source": []
  }
 ],
 "metadata": {
  "kernelspec": {
   "display_name": "Python 2",
   "language": "python",
   "name": "python2"
  },
  "language_info": {
   "codemirror_mode": {
    "name": "ipython",
    "version": 2
   },
   "file_extension": ".py",
   "mimetype": "text/x-python",
   "name": "python",
   "nbconvert_exporter": "python",
   "pygments_lexer": "ipython2",
   "version": "2.7.9"
  }
 },
 "nbformat": 4,
 "nbformat_minor": 0
}
