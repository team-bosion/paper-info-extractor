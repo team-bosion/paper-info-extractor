{
 "cells": [
  {
   "cell_type": "code",
   "execution_count": 1,
   "metadata": {
    "collapsed": false
   },
   "outputs": [],
   "source": [
    "import pdfExtractor\n",
    "from pdfExtractor import PaperPageInfo, TextBox, TextLine, Text"
   ]
  },
  {
   "cell_type": "code",
   "execution_count": 2,
   "metadata": {
    "collapsed": false
   },
   "outputs": [
    {
     "name": "stdout",
     "output_type": "stream",
     "text": [
      "./test-samples/AudioSignalProcessing/BoorstynRife-IEEE-TransInfoTheory_for_March_19.pdf\n"
     ]
    }
   ],
   "source": [
    "path = pdfExtractor.testpath(5)\n",
    "print path"
   ]
  },
  {
   "cell_type": "code",
   "execution_count": 3,
   "metadata": {
    "collapsed": false
   },
   "outputs": [],
   "source": [
    "first_page_xml = pdfExtractor.extractPagesXml(path)[0]\n",
    "page_obj = pdfExtractor.getXmlObject(first_page_xml)"
   ]
  },
  {
   "cell_type": "code",
   "execution_count": 4,
   "metadata": {
    "collapsed": false
   },
   "outputs": [
    {
     "name": "stdout",
     "output_type": "stream",
     "text": [
      "page size:\n",
      "[ 309.  396.]\n"
     ]
    }
   ],
   "source": [
    "page = PaperPageInfo(pdfExtractor.getPages(page_obj)[0])\n",
    "print('page size:')\n",
    "print(page.getBoxCenter())"
   ]
  },
  {
   "cell_type": "code",
   "execution_count": 5,
   "metadata": {
    "collapsed": false
   },
   "outputs": [
    {
     "name": "stdout",
     "output_type": "stream",
     "text": [
      "42\n"
     ]
    }
   ],
   "source": [
    "print len(page.getTextBoxes())"
   ]
  },
  {
   "cell_type": "code",
   "execution_count": 6,
   "metadata": {
    "collapsed": false
   },
   "outputs": [
    {
     "name": "stdout",
     "output_type": "stream",
     "text": [
      "textbox[0].boxcenter: \n",
      "[ 193.757   755.6625]\n",
      "textbox[1].boxcenter: \n",
      "[ 560.595   754.7025]\n",
      "textbox[2].boxcenter: \n",
      "[ 310.382   725.8095]\n",
      "textbox[3].boxcenter: \n",
      "[ 315.05    701.5695]\n",
      "textbox[4].boxcenter: \n",
      "[ 309.797  670.072]\n",
      "textbox[5].boxcenter: \n",
      "[  83.9685  601.5075]\n",
      "textbox[6].boxcenter: \n",
      "[ 178.5175  587.5425]\n",
      "textbox[7].boxcenter: \n",
      "[ 142.517   528.6225]\n",
      "textbox[8].boxcenter: \n",
      "[ 180.9165  528.6225]\n",
      "textbox[9].boxcenter: \n",
      "[ 177.82    507.4495]\n",
      "textbox[10].boxcenter: \n",
      "[ 177.22   483.952]\n",
      "textbox[11].boxcenter: \n",
      "[ 177.7005  430.192 ]\n",
      "textbox[12].boxcenter: \n",
      "[ 176.98   370.192]\n",
      "textbox[13].boxcenter: \n",
      "[ 176.74   298.312]\n",
      "textbox[14].boxcenter: \n",
      "[ 176.86   232.552]\n",
      "textbox[15].boxcenter: \n",
      "[ 173.3805  214.552 ]\n",
      "textbox[16].boxcenter: \n",
      "[ 128.26   186.352]\n",
      "textbox[17].boxcenter: \n",
      "[ 189.9405  178.072 ]\n",
      "textbox[18].boxcenter: \n",
      "[ 211.6605  196.072 ]\n",
      "textbox[19].boxcenter: \n",
      "[ 296.02   185.254]\n",
      "textbox[20].boxcenter: \n",
      "[  77.597   143.9025]\n",
      "textbox[21].boxcenter: \n",
      "[ 175.996   111.7425]\n",
      "textbox[22].boxcenter: \n",
      "[ 162.5565   67.5825]\n",
      "textbox[23].boxcenter: \n",
      "[ 178.756    63.5025]\n",
      "textbox[24].boxcenter: \n",
      "[ 255.0755   63.5025]\n",
      "textbox[25].boxcenter: \n",
      "[ 133.1565   63.5025]\n",
      "textbox[26].boxcenter: \n",
      "[ 76.277   55.5825]\n",
      "textbox[27].boxcenter: \n",
      "[ 322.038   621.7425]\n",
      "textbox[28].boxcenter: \n",
      "[ 445.9    596.152]\n",
      "textbox[29].boxcenter: \n",
      "[ 440.2595  606.232 ]\n",
      "textbox[30].boxcenter: \n",
      "[ 377.4995  576.472 ]\n",
      "textbox[31].boxcenter: \n",
      "[ 440.4995  558.232 ]\n",
      "textbox[32].boxcenter: \n",
      "[ 440.86   536.392]\n",
      "textbox[33].boxcenter: \n",
      "[ 381.8195  504.232 ]\n",
      "textbox[34].boxcenter: \n",
      "[ 440.02   492.472]\n",
      "textbox[35].boxcenter: \n",
      "[ 395.139  406.792]\n",
      "textbox[36].boxcenter: \n",
      "[ 441.6995  370.432 ]\n",
      "textbox[37].boxcenter: \n",
      "[ 440.8595  324.0855]\n",
      "textbox[38].boxcenter: \n",
      "[ 398.619  250.552]\n",
      "textbox[39].boxcenter: \n",
      "[ 439.539  238.672]\n",
      "textbox[40].boxcenter: \n",
      "[ 437.597  204.472]\n",
      "textbox[41].boxcenter: \n",
      "[ 438.7    122.992]\n"
     ]
    }
   ],
   "source": [
    "textboxes = page.getTextBoxes()\n",
    "for x in range(len(textboxes)):\n",
    "    print('textbox[' + str(x) + '].boxcenter: ')\n",
    "    print(textboxes[x].getBoxCenter())"
   ]
  },
  {
   "cell_type": "code",
   "execution_count": 7,
   "metadata": {
    "collapsed": false
   },
   "outputs": [],
   "source": [
    "import math\n",
    "DEBUG = False\n",
    "titlecandidates = []\n",
    "tol = 50\n",
    "pagecenterX = page.getBoxCenter()[0]\n",
    "for textbox in textboxes:\n",
    "    if DEBUG: print('id=' + textbox.getId())\n",
    "    needsort = False\n",
    "    if abs(textbox.getBoxCenter()[0] - pagecenterX) < tol or len(titlecandidates) == 0:\n",
    "        titlecandidates.append(textbox)\n",
    "        needsort = True\n",
    "    else:\n",
    "        if abs(textbox.getBoxCenter()[0] - pagecenterX) < abs(titlecandidates[0].getBoxCenter()[0] - pagecenterX):\n",
    "            titlecandidates[0] = textbox\n",
    "            needsort = True\n",
    "        \n",
    "    if len(titlecandidates) > 1 and needsort:\n",
    "        firstcandidate = titlecandidates[0]\n",
    "        for x in range(len(titlecandidates)):\n",
    "            if x == 0:\n",
    "                continue\n",
    "            if abs(titlecandidates[x].getBoxCenter()[0] - pagecenterX) > abs(firstcandidate.getBoxCenter()[0] - pagecenterX):\n",
    "                titlecandidates[0] = titlecandidates[x]\n",
    "                titlecandidates[x] = firstcandidate\n",
    "                firstcandidate = titlecandidates[0]\n",
    "        if DEBUG:\n",
    "            for x in range(len(titlecandidates)):\n",
    "                print('title[' + str(x) + ', id=' + titlecandidates[x].getId() + '].boxcenter: ')\n",
    "                print(titlecandidates[x].getBoxCenter())\n",
    "            print('------------------')"
   ]
  },
  {
   "cell_type": "code",
   "execution_count": 8,
   "metadata": {
    "collapsed": false
   },
   "outputs": [
    {
     "name": "stdout",
     "output_type": "stream",
     "text": [
      "title[0, id=4].boxcenter: \n",
      "[ 309.797  670.072]\n",
      "title[1, id=2].boxcenter: \n",
      "[ 310.382   725.8095]\n",
      "title[2, id=3].boxcenter: \n",
      "[ 315.05    701.5695]\n",
      "title[3, id=19].boxcenter: \n",
      "[ 296.02   185.254]\n",
      "title[4, id=27].boxcenter: \n",
      "[ 322.038   621.7425]\n",
      "title[5, id=24].boxcenter: \n",
      "[ 255.0755   63.5025]\n"
     ]
    }
   ],
   "source": [
    "for x in range(len(titlecandidates)-1):\n",
    "    for y in range(len(titlecandidates)-x-1):\n",
    "        xcand = titlecandidates[x]\n",
    "        ycand = titlecandidates[y+x+1]\n",
    "        if abs(xcand.getBoxCenter()[0] - pagecenterX) > abs(ycand.getBoxCenter()[0] - pagecenterX):\n",
    "            titlecandidates[x] = ycand\n",
    "            titlecandidates[y+x+1] = xcand\n",
    "            if not DEBUG: continue\n",
    "            print('swap(' + str(x) + ' and ' + str(y+x+1) + ')')\n",
    "            for idx in range(len(titlecandidates)):\n",
    "                print('title[' + str(idx) + ', id=' + titlecandidates[idx].getId() + '].boxcenter: ')\n",
    "                print(titlecandidates[idx].getBoxCenter())\n",
    "            print('---------------------')\n",
    "        \n",
    "for x in range(len(titlecandidates)):\n",
    "    print('title[' + str(x) + ', id=' + titlecandidates[x].getId() + '].boxcenter: ')\n",
    "    print(titlecandidates[x].getBoxCenter())"
   ]
  },
  {
   "cell_type": "code",
   "execution_count": 9,
   "metadata": {
    "collapsed": false
   },
   "outputs": [
    {
     "name": "stdout",
     "output_type": "stream",
     "text": [
      "pagecenter:\n",
      "[ 309.  396.]\n",
      "candidate[id=4, boxcenter=(309.797, 670.072]: \n",
      "1 lines\n",
      "textSize: 13.684\n",
      "DAVID  C.  RIFE,  SENIOR  MEMBER,  IEEE,  AND  ROBERT  R.  BOORSTYN,  MEMBER,  IEEE \n",
      "\n",
      "----------------------------------\n",
      "candidate[id=2, boxcenter=(310.382, 725.8095]: \n",
      "1 lines\n",
      "textSize: 34.057\n",
      "Single-Tone Parameter Estimation  from \n",
      "\n",
      "----------------------------------\n",
      "candidate[id=3, boxcenter=(315.05, 701.5695]: \n",
      "1 lines\n",
      "textSize: 34.057\n",
      "Qiscrete-Time Observations \n",
      "\n",
      "----------------------------------\n",
      "candidate[id=19, boxcenter=(296.02, 185.254]: \n",
      "2 lines\n",
      "textSize: 13.684\n",
      "(1) \n",
      "\n",
      "textSize: 12.467\n",
      "(2) \n",
      "\n",
      "----------------------------------\n",
      "candidate[id=27, boxcenter=(322.038, 621.7425]: \n",
      "1 lines\n",
      "textSize: 11.251\n",
      "and \n",
      "\n",
      "----------------------------------\n",
      "candidate[id=24, boxcenter=(255.0755, 63.5025]: \n",
      "1 lines\n",
      "textSize: 11.251\n",
      "Institute  of  New  York, \n",
      "\n",
      "----------------------------------\n"
     ]
    }
   ],
   "source": [
    "print('pagecenter:')\n",
    "print(page.getBoxCenter())\n",
    "for candidate in titlecandidates:\n",
    "    c = candidate.getBoxCenter()\n",
    "    print('candidate[id=' + candidate.getId() + ', boxcenter=(' + str(c[0]) + ', ' + str(c[1]) + ']: ')\n",
    "    print(str(len(candidate.getTextLines())) + ' lines')\n",
    "    for textline in candidate.getTextLines():\n",
    "        print('textSize: ' + textline.getTexts()[0].getTextSize())\n",
    "        print(textline.getLineText())\n",
    "    print('----------------------------------')"
   ]
  },
  {
   "cell_type": "code",
   "execution_count": null,
   "metadata": {
    "collapsed": true
   },
   "outputs": [],
   "source": []
  }
 ],
 "metadata": {
  "kernelspec": {
   "display_name": "Python 2",
   "language": "python",
   "name": "python2"
  },
  "language_info": {
   "codemirror_mode": {
    "name": "ipython",
    "version": 2
   },
   "file_extension": ".py",
   "mimetype": "text/x-python",
   "name": "python",
   "nbconvert_exporter": "python",
   "pygments_lexer": "ipython2",
   "version": "2.7.9"
  }
 },
 "nbformat": 4,
 "nbformat_minor": 0
}
