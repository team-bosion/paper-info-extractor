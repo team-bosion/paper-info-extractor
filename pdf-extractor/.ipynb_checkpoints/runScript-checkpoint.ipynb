{
 "cells": [
  {
   "cell_type": "code",
   "execution_count": 1,
   "metadata": {
    "collapsed": false
   },
   "outputs": [],
   "source": [
    "import pdfExtractor\n",
    "from pdfExtractor import PaperPageInfo, TextBox, TextLine, Text"
   ]
  },
  {
   "cell_type": "code",
   "execution_count": 2,
   "metadata": {
    "collapsed": false
   },
   "outputs": [
    {
     "name": "stdout",
     "output_type": "stream",
     "text": [
      "./test-samples/OpticalMusicRecognition/2012ARebeloIJMIR.pdf\n"
     ]
    }
   ],
   "source": [
    "path = pdfExtractor.testpath()\n",
    "print path"
   ]
  },
  {
   "cell_type": "code",
   "execution_count": 3,
   "metadata": {
    "collapsed": false
   },
   "outputs": [],
   "source": [
    "first_page_xml = pdfExtractor.extractPagesXml(path)[0]\n",
    "page_obj = pdfExtractor.getXmlObject(first_page_xml)"
   ]
  },
  {
   "cell_type": "code",
   "execution_count": 4,
   "metadata": {
    "collapsed": false
   },
   "outputs": [
    {
     "name": "stdout",
     "output_type": "stream",
     "text": [
      "page size:\n",
      "[ 297.638  420.945]\n"
     ]
    }
   ],
   "source": [
    "page = PaperPageInfo(pdfExtractor.getPages(page_obj)[0])\n",
    "print('page size:')\n",
    "print(page.getBoxCenter())"
   ]
  },
  {
   "cell_type": "code",
   "execution_count": 5,
   "metadata": {
    "collapsed": false
   },
   "outputs": [
    {
     "name": "stdout",
     "output_type": "stream",
     "text": [
      "15\n"
     ]
    }
   ],
   "source": [
    "print len(page.getTextBoxes())"
   ]
  },
  {
   "cell_type": "code",
   "execution_count": 6,
   "metadata": {
    "collapsed": false
   },
   "outputs": [
    {
     "name": "stdout",
     "output_type": "stream",
     "text": [
      "textbox[0].boxcenter: \n",
      "[ 112.4625  780.0765]\n",
      "textbox[1].boxcenter: \n",
      "[ 251.7575  699.3035]\n",
      "textbox[2].boxcenter: \n",
      "[ 163.7545  663.4345]\n",
      "textbox[3].boxcenter: \n",
      "[ 184.9495  562.936 ]\n",
      "textbox[4].boxcenter: \n",
      "[ 162.759  413.515]\n",
      "textbox[5].boxcenter: \n",
      "[ 142.373   255.5885]\n",
      "textbox[6].boxcenter: \n",
      "[  91.058   222.6795]\n",
      "textbox[7].boxcenter: \n",
      "[  94.928  197.085]\n",
      "textbox[8].boxcenter: \n",
      "[ 103.282   171.4905]\n",
      "textbox[9].boxcenter: \n",
      "[ 151.2755  140.9145]\n",
      "textbox[10].boxcenter: \n",
      "[  94.7885  105.3575]\n",
      "textbox[11].boxcenter: \n",
      "[ 419.432   509.6115]\n",
      "textbox[12].boxcenter: \n",
      "[ 328.374   453.4545]\n",
      "textbox[13].boxcenter: \n",
      "[ 416.229  310.935]\n",
      "textbox[14].boxcenter: \n",
      "[ 416.229  136.57 ]\n"
     ]
    }
   ],
   "source": [
    "textboxes = page.getTextBoxes()\n",
    "for x in range(len(textboxes)):\n",
    "    print('textbox[' + str(x) + '].boxcenter: ')\n",
    "    print(textboxes[x].getBoxCenter())"
   ]
  },
  {
   "cell_type": "code",
   "execution_count": null,
   "metadata": {
    "collapsed": false
   },
   "outputs": [],
   "source": []
  },
  {
   "cell_type": "code",
   "execution_count": 7,
   "metadata": {
    "collapsed": false
   },
   "outputs": [
    {
     "name": "stdout",
     "output_type": "stream",
     "text": [
      "textbox[0, id=0].boxcenter: \n",
      "[ 112.4625  780.0765]\n",
      "textbox[1, id=1].boxcenter: \n",
      "[ 251.7575  699.3035]\n",
      "textbox[2, id=2].boxcenter: \n",
      "[ 163.7545  663.4345]\n",
      "textbox[3, id=3].boxcenter: \n",
      "[ 184.9495  562.936 ]\n",
      "textbox[4, id=4].boxcenter: \n",
      "[ 162.759  413.515]\n",
      "textbox[5, id=5].boxcenter: \n",
      "[ 142.373   255.5885]\n",
      "textbox[6, id=6].boxcenter: \n",
      "[  91.058   222.6795]\n",
      "textbox[7, id=7].boxcenter: \n",
      "[  94.928  197.085]\n",
      "textbox[8, id=8].boxcenter: \n",
      "[ 103.282   171.4905]\n",
      "textbox[9, id=9].boxcenter: \n",
      "[ 151.2755  140.9145]\n",
      "textbox[10, id=10].boxcenter: \n",
      "[  94.7885  105.3575]\n",
      "textbox[11, id=11].boxcenter: \n",
      "[ 419.432   509.6115]\n",
      "textbox[12, id=12].boxcenter: \n",
      "[ 328.374   453.4545]\n",
      "textbox[13, id=13].boxcenter: \n",
      "[ 416.229  310.935]\n",
      "textbox[14, id=14].boxcenter: \n",
      "[ 416.229  136.57 ]\n"
     ]
    }
   ],
   "source": [
    "for x in range(len(textboxes)):\n",
    "    print('textbox[' + str(x) + ', id=' + textboxes[x].getId() + '].boxcenter: ')\n",
    "    print(textboxes[x].getBoxCenter())"
   ]
  },
  {
   "cell_type": "code",
   "execution_count": 8,
   "metadata": {
    "collapsed": false
   },
   "outputs": [],
   "source": [
    "import math\n",
    "DEBUG = False\n",
    "titlecandidates = []\n",
    "N = 5\n",
    "pagecenterX = page.getBoxCenter()[0]\n",
    "for textbox in textboxes:\n",
    "    if DEBUG: print('id=' + textbox.getId())\n",
    "    needsort = False\n",
    "    if len(titlecandidates) < 5:\n",
    "        titlecandidates.append(textbox)\n",
    "        needsort = True\n",
    "    else:\n",
    "        if abs(textbox.getBoxCenter()[0] - pagecenterX) < abs(titlecandidates[0].getBoxCenter()[0] - pagecenterX):\n",
    "            titlecandidates[0] = textbox\n",
    "            needsort = True\n",
    "        \n",
    "    if len(titlecandidates) > 1 and needsort:\n",
    "        firstcandidate = titlecandidates[0]\n",
    "        for x in range(len(titlecandidates)):\n",
    "            if x == 0:\n",
    "                continue\n",
    "            if abs(titlecandidates[x].getBoxCenter()[0] - pagecenterX) > abs(firstcandidate.getBoxCenter()[0] - pagecenterX):\n",
    "                titlecandidates[0] = titlecandidates[x]\n",
    "                titlecandidates[x] = firstcandidate\n",
    "                firstcandidate = titlecandidates[0]\n",
    "        if DEBUG:\n",
    "            for x in range(len(titlecandidates)):\n",
    "                print('title[' + str(x) + ', id=' + titlecandidates[x].getId() + '].boxcenter: ')\n",
    "                print(titlecandidates[x].getBoxCenter())\n",
    "            print('------------------')"
   ]
  },
  {
   "cell_type": "code",
   "execution_count": 9,
   "metadata": {
    "collapsed": false
   },
   "outputs": [
    {
     "name": "stdout",
     "output_type": "stream",
     "text": [
      "title[0, id=14].boxcenter: \n",
      "[ 416.229  136.57 ]\n",
      "title[1, id=12].boxcenter: \n",
      "[ 328.374   453.4545]\n",
      "title[2, id=1].boxcenter: \n",
      "[ 251.7575  699.3035]\n",
      "title[3, id=3].boxcenter: \n",
      "[ 184.9495  562.936 ]\n",
      "title[4, id=13].boxcenter: \n",
      "[ 416.229  310.935]\n"
     ]
    }
   ],
   "source": [
    "for x in range(len(titlecandidates)):\n",
    "    print('title[' + str(x) + ', id=' + titlecandidates[x].getId() + '].boxcenter: ')\n",
    "    print(titlecandidates[x].getBoxCenter())"
   ]
  },
  {
   "cell_type": "code",
   "execution_count": 15,
   "metadata": {
    "collapsed": false
   },
   "outputs": [
    {
     "name": "stdout",
     "output_type": "stream",
     "text": [
      "pagecenter:\n",
      "[ 297.638  420.945]\n",
      "candidate[id=14, boxcenter=(416.229, 136.57]: \n",
      "Digitization has been commonly used as a possible tool\n",
      "\n",
      "for preservation, offering easy duplications, distribution, and\n",
      "\n",
      "digital processing. However, a machine-readable symbolic\n",
      "\n",
      "format from the music scores is needed to facilitate opera-\n",
      "\n",
      "tions such as search, retrieval and analysis. The manual tran-\n",
      "\n",
      "scription of music scores into an appropriate digital format\n",
      "\n",
      "is very time consuming. The development of general image\n",
      "\n",
      "processing methods for object recognition has contributed\n",
      "\n",
      "----------------------------------\n",
      "candidate[id=12, boxcenter=(328.374, 453.4545]: \n",
      "1 Introduction\n",
      "\n",
      "----------------------------------\n",
      "candidate[id=1, boxcenter=(251.7575, 699.3035]: \n",
      "Optical Music Recognition - State-of-the-Art and Open Issues\n",
      "\n",
      "----------------------------------\n",
      "candidate[id=3, boxcenter=(184.9495, 562.936]: \n",
      "Received: 10 October 2011 / Revised: 23 January 2012 / Accepted: 1 February 2012\n",
      "\n",
      "----------------------------------\n",
      "candidate[id=13, boxcenter=(416.229, 310.935]: \n",
      "The musical score is the primary artifact for the transmis-\n",
      "\n",
      "sion of musical expression for non-aural traditions. Over\n",
      "\n",
      "the centuries, musical scores have evolved dramatically in\n",
      "\n",
      "both symbolic content and quality of presentation. The ap-\n",
      "\n",
      "pearance of musical typographical systems in the late 19th\n",
      "\n",
      "century and, more recently, the emergence of very sophis-\n",
      "\n",
      "ticated computer music manuscript editing and page-layout\n",
      "\n",
      "systems, illustrate the continuous absorption of new tech-\n",
      "\n",
      "nologies into systems for the creation of musical scores and\n",
      "\n",
      "parts. Until quite recently, most composers of all genres \n",
      "\n",
      "lm, theater, concert, sacred music  continued to use the\n",
      "\n",
      "traditional pen and paper nding manual input to be the\n",
      "\n",
      "most efcient. Early computer music typesetting software\n",
      "\n",
      "developed in the 1970s and 1980s produced excellent out-\n",
      "\n",
      "put but was awkward to use. Even the introduction of data\n",
      "\n",
      "entry from musical keyboard (MIDI piano for example) pro-\n",
      "\n",
      "vided only a partial solution to the rather slow keyboard and\n",
      "\n",
      "mouse GUIs. There are many scores and parts still being\n",
      "\n",
      "hand written. Thus, the demand for a robust and accurate\n",
      "\n",
      "Optical Music Recognition (OMR) system remains.\n",
      "\n",
      "----------------------------------\n"
     ]
    }
   ],
   "source": [
    "print('pagecenter:')\n",
    "print(page.getBoxCenter())\n",
    "for candidate in titlecandidates:\n",
    "    c = candidate.getBoxCenter()\n",
    "    print('candidate[id=' + candidate.getId() + ', boxcenter=(' + str(c[0]) + ', ' + str(c[1]) + ']: ')\n",
    "    for textline in candidate.getTextLines():\n",
    "        print(textline.getLineText())\n",
    "    print('----------------------------------')"
   ]
  },
  {
   "cell_type": "code",
   "execution_count": null,
   "metadata": {
    "collapsed": true
   },
   "outputs": [],
   "source": []
  }
 ],
 "metadata": {
  "kernelspec": {
   "display_name": "Python 2",
   "language": "python",
   "name": "python2"
  },
  "language_info": {
   "codemirror_mode": {
    "name": "ipython",
    "version": 2
   },
   "file_extension": ".py",
   "mimetype": "text/x-python",
   "name": "python",
   "nbconvert_exporter": "python",
   "pygments_lexer": "ipython2",
   "version": "2.7.9"
  }
 },
 "nbformat": 4,
 "nbformat_minor": 0
}
