{
 "cells": [
  {
   "cell_type": "code",
   "execution_count": 1,
   "metadata": {
    "collapsed": false
   },
   "outputs": [],
   "source": [
    "import pdfExtractor\n",
    "path = '/Users/HWLee/Desktop/papers/theory of relativity/0108042v1-60df3449.pdf'\n",
    "title_cands_string = pdfExtractor.getTitleStringCandidates(path, filtering=False)"
   ]
  },
  {
   "cell_type": "code",
   "execution_count": 2,
   "metadata": {
    "collapsed": false
   },
   "outputs": [
    {
     "name": "stdout",
     "output_type": "stream",
     "text": [
      "1. Introduction\n",
      "\n",
      "-------------------------------\n",
      "S. ANTOCI\n",
      "\n",
      "-------------------------------\n",
      "1\n",
      "\n",
      "-------------------------------\n",
      "A METHOD FOR FINDING SOLUTIONS OF THE\n",
      "HERMITIAN THEORY OF RELATIVITY WHICH DEPEND\n",
      "ON THREE CO-ORDINATES\n",
      "\n",
      "-------------------------------\n",
      " \n",
      " \n",
      " \n",
      " \n",
      "\n",
      "-------------------------------\n"
     ]
    }
   ],
   "source": [
    "for title_string in title_cands_string:\n",
    "    print(title_string)\n",
    "    print('-------------------------------')"
   ]
  },
  {
   "cell_type": "code",
   "execution_count": 3,
   "metadata": {
    "collapsed": false
   },
   "outputs": [],
   "source": [
    "import re\n",
    "def _might_be_a_candidate(candidate_string):\n",
    "    return len( re.sub('[^1-9a-zA-Z]+', '', candidate_string) ) > 30"
   ]
  },
  {
   "cell_type": "code",
   "execution_count": 4,
   "metadata": {
    "collapsed": false
   },
   "outputs": [
    {
     "data": {
      "text/plain": [
       "['A METHOD FOR FINDING SOLUTIONS OF THE\\nHERMITIAN THEORY OF RELATIVITY WHICH DEPEND\\nON THREE CO-ORDINATES\\n']"
      ]
     },
     "execution_count": 4,
     "metadata": {},
     "output_type": "execute_result"
    }
   ],
   "source": [
    "filtered = zip(title_cands_string, map(_might_be_a_candidate, title_cands_string))\n",
    "filtered = filter(lambda x: x[1], filtered)\n",
    "filtered = map(lambda x: x[0], filtered)\n",
    "filtered"
   ]
  }
 ],
 "metadata": {
  "kernelspec": {
   "display_name": "Python 2",
   "language": "python",
   "name": "python2"
  },
  "language_info": {
   "codemirror_mode": {
    "name": "ipython",
    "version": 2
   },
   "file_extension": ".py",
   "mimetype": "text/x-python",
   "name": "python",
   "nbconvert_exporter": "python",
   "pygments_lexer": "ipython2",
   "version": "2.7.9"
  }
 },
 "nbformat": 4,
 "nbformat_minor": 0
}
