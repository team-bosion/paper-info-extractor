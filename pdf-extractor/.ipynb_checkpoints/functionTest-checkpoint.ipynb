{
 "cells": [
  {
   "cell_type": "code",
   "execution_count": 1,
   "metadata": {
    "collapsed": false
   },
   "outputs": [
    {
     "data": {
      "text/plain": [
       "['A Computational Tool to Interpret the Bulk Composition of Solid Exoplanets\\n',\n",
       " 'based on Mass and Radius Measurements\\n',\n",
       " 'We adopt the idea of using ternary diagrams to quantify the compositional uncertainty in exo-\\nplanets. The planet mass and radius are the observed quantities and therefore we focus solely on on\\nternary diagrams for a planet of xed mass and xed radius (c.f. Valencia et al. 2007). We compute\\n',\n",
       " '1Department of Physics, Massachusetts Institute of Technology, 77 Massachusetts Ave., Cambridge, MA 02139\\n',\n",
       " '2Department of Earth, Atmospheric and Planetary Sciences, Massachusetts Institute of Technology, 77 Mas-\\n']"
      ]
     },
     "execution_count": 1,
     "metadata": {},
     "output_type": "execute_result"
    }
   ],
   "source": [
    "from pdfExtractor import PaperInfo\n",
    "\n",
    "path = '/Users/HWLee/Desktop/papers/exoplanet/0808.1916v1-0892a820.pdf'\n",
    "info = PaperInfo(path)\n",
    "info.getTitles()"
   ]
  },
  {
   "cell_type": "code",
   "execution_count": 2,
   "metadata": {
    "collapsed": false
   },
   "outputs": [],
   "source": []
  }
 ],
 "metadata": {
  "kernelspec": {
   "display_name": "Python 2",
   "language": "python",
   "name": "python2"
  },
  "language_info": {
   "codemirror_mode": {
    "name": "ipython",
    "version": 2
   },
   "file_extension": ".py",
   "mimetype": "text/x-python",
   "name": "python",
   "nbconvert_exporter": "python",
   "pygments_lexer": "ipython2",
   "version": "2.7.9"
  }
 },
 "nbformat": 4,
 "nbformat_minor": 0
}
