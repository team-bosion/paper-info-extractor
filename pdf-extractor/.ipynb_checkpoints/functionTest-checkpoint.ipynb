{
 "cells": [
  {
   "cell_type": "code",
   "execution_count": 1,
   "metadata": {
    "collapsed": true
   },
   "outputs": [],
   "source": [
    "import pdfExtractor"
   ]
  },
  {
   "cell_type": "code",
   "execution_count": 2,
   "metadata": {
    "collapsed": false
   },
   "outputs": [],
   "source": [
    "path = './test-samples/Articles/Size-Dependent Surface Tension and Tolman’s Length of Droplets.pdf'"
   ]
  },
  {
   "cell_type": "code",
   "execution_count": 3,
   "metadata": {
    "collapsed": false
   },
   "outputs": [],
   "source": [
    "title_candidates = pdfExtractor.getTitleStringCandidates(path)"
   ]
  },
  {
   "cell_type": "code",
   "execution_count": 4,
   "metadata": {
    "collapsed": false
   },
   "outputs": [
    {
     "name": "stdout",
     "output_type": "stream",
     "text": [
      "Size-Dependent Surface Tension and Tolmans\n",
      "Length of Droplets\n",
      "\n",
      "--------------------------\n",
      "Hai Ming Lu and Qing Jiang*\n",
      "\n",
      "--------------------------\n",
      "(1)\n",
      "(2)\n",
      "\n",
      "--------------------------\n",
      "Key Laboratory of Automobile Materials (Jilin University), Ministry of Education, and\n",
      "Department of Materials Science and Engineering, Jilin University,\n",
      "Changchun 130025, Peoples Republic of China\n",
      "Received April 22, 2004. In Final Form: October 19, 2004\n",
      "\n",
      "--------------------------\n",
      "Langmuir 2005, 21, 779-781\n",
      "\n",
      "--------------------------\n",
      "10.1021/la0489817 CCC: $30.25  2005 American Chemical Society\n",
      "Published on Web 12/15/2004\n",
      "\n",
      "--------------------------\n",
      "1998, 108, 1148.\n",
      "\n",
      "--------------------------\n",
      "4063.\n",
      "\n",
      "--------------------------\n"
     ]
    }
   ],
   "source": [
    "for title in title_candidates:\n",
    "    print title\n",
    "    print '--------------------------'"
   ]
  },
  {
   "cell_type": "code",
   "execution_count": 5,
   "metadata": {
    "collapsed": false
   },
   "outputs": [
    {
     "name": "stdout",
     "output_type": "stream",
     "text": [
      "Size-Dependent Surface Tension and Tolmans\n",
      "Length of Droplets\n",
      "\n"
     ]
    }
   ],
   "source": [
    "info = pdfExtractor.getInfo(path)\n",
    "print(info['title'])"
   ]
  },
  {
   "cell_type": "code",
   "execution_count": null,
   "metadata": {
    "collapsed": true
   },
   "outputs": [],
   "source": []
  }
 ],
 "metadata": {
  "kernelspec": {
   "display_name": "Python 2",
   "language": "python",
   "name": "python2"
  },
  "language_info": {
   "codemirror_mode": {
    "name": "ipython",
    "version": 2
   },
   "file_extension": ".py",
   "mimetype": "text/x-python",
   "name": "python",
   "nbconvert_exporter": "python",
   "pygments_lexer": "ipython2",
   "version": "2.7.9"
  }
 },
 "nbformat": 4,
 "nbformat_minor": 0
}
